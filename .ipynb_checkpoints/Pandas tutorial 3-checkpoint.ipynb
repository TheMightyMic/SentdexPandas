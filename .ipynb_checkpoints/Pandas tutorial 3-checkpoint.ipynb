{
 "cells": [
  {
   "cell_type": "code",
   "execution_count": 3,
   "metadata": {},
   "outputs": [
    {
     "data": {
      "text/html": [
       "<div>\n",
       "<style scoped>\n",
       "    .dataframe tbody tr th:only-of-type {\n",
       "        vertical-align: middle;\n",
       "    }\n",
       "\n",
       "    .dataframe tbody tr th {\n",
       "        vertical-align: top;\n",
       "    }\n",
       "\n",
       "    .dataframe thead th {\n",
       "        text-align: right;\n",
       "    }\n",
       "</style>\n",
       "<table border=\"1\" class=\"dataframe\">\n",
       "  <thead>\n",
       "    <tr style=\"text-align: right;\">\n",
       "      <th></th>\n",
       "      <th>Alaska</th>\n",
       "      <th>Arkansas</th>\n",
       "      <th>California</th>\n",
       "      <th>Colorado</th>\n",
       "      <th>Connecticut</th>\n",
       "      <th>Delaware</th>\n",
       "      <th>District of Columbia</th>\n",
       "      <th>Federal (FLSA)</th>\n",
       "      <th>Guam</th>\n",
       "      <th>Hawaii</th>\n",
       "      <th>...</th>\n",
       "      <th>Pennsylvania</th>\n",
       "      <th>Puerto Rico</th>\n",
       "      <th>Rhode Island</th>\n",
       "      <th>South Dakota</th>\n",
       "      <th>Utah</th>\n",
       "      <th>Vermont</th>\n",
       "      <th>Washington</th>\n",
       "      <th>West Virginia</th>\n",
       "      <th>Wisconsin</th>\n",
       "      <th>Wyoming</th>\n",
       "    </tr>\n",
       "  </thead>\n",
       "  <tbody>\n",
       "    <tr>\n",
       "      <th>Alaska</th>\n",
       "      <td>1.000000</td>\n",
       "      <td>-0.377934</td>\n",
       "      <td>0.717653</td>\n",
       "      <td>-0.129332</td>\n",
       "      <td>0.680886</td>\n",
       "      <td>0.258997</td>\n",
       "      <td>0.321785</td>\n",
       "      <td>0.637679</td>\n",
       "      <td>0.787915</td>\n",
       "      <td>0.672620</td>\n",
       "      <td>...</td>\n",
       "      <td>0.610814</td>\n",
       "      <td>-0.038118</td>\n",
       "      <td>0.652353</td>\n",
       "      <td>-0.326316</td>\n",
       "      <td>-0.020462</td>\n",
       "      <td>0.663558</td>\n",
       "      <td>0.411593</td>\n",
       "      <td>0.044814</td>\n",
       "      <td>0.702570</td>\n",
       "      <td>0.727932</td>\n",
       "    </tr>\n",
       "    <tr>\n",
       "      <th>Arkansas</th>\n",
       "      <td>-0.377934</td>\n",
       "      <td>1.000000</td>\n",
       "      <td>-0.234367</td>\n",
       "      <td>0.135749</td>\n",
       "      <td>0.047580</td>\n",
       "      <td>0.016125</td>\n",
       "      <td>0.266889</td>\n",
       "      <td>0.117245</td>\n",
       "      <td>0.039593</td>\n",
       "      <td>0.204801</td>\n",
       "      <td>...</td>\n",
       "      <td>0.159923</td>\n",
       "      <td>0.232186</td>\n",
       "      <td>0.003498</td>\n",
       "      <td>0.800116</td>\n",
       "      <td>0.194680</td>\n",
       "      <td>0.087429</td>\n",
       "      <td>-0.072343</td>\n",
       "      <td>0.420819</td>\n",
       "      <td>0.000470</td>\n",
       "      <td>-0.250592</td>\n",
       "    </tr>\n",
       "    <tr>\n",
       "      <th>California</th>\n",
       "      <td>0.717653</td>\n",
       "      <td>-0.234367</td>\n",
       "      <td>1.000000</td>\n",
       "      <td>0.483313</td>\n",
       "      <td>0.876215</td>\n",
       "      <td>0.479197</td>\n",
       "      <td>0.596865</td>\n",
       "      <td>0.371966</td>\n",
       "      <td>0.492052</td>\n",
       "      <td>0.519241</td>\n",
       "      <td>...</td>\n",
       "      <td>0.429061</td>\n",
       "      <td>0.512712</td>\n",
       "      <td>0.780916</td>\n",
       "      <td>-0.036787</td>\n",
       "      <td>0.392898</td>\n",
       "      <td>0.877922</td>\n",
       "      <td>0.754085</td>\n",
       "      <td>0.371765</td>\n",
       "      <td>0.584067</td>\n",
       "      <td>0.722617</td>\n",
       "    </tr>\n",
       "    <tr>\n",
       "      <th>Colorado</th>\n",
       "      <td>-0.129332</td>\n",
       "      <td>0.135749</td>\n",
       "      <td>0.483313</td>\n",
       "      <td>1.000000</td>\n",
       "      <td>0.402020</td>\n",
       "      <td>0.566304</td>\n",
       "      <td>0.673371</td>\n",
       "      <td>-0.232035</td>\n",
       "      <td>-0.192616</td>\n",
       "      <td>0.069800</td>\n",
       "      <td>...</td>\n",
       "      <td>-0.136195</td>\n",
       "      <td>0.657364</td>\n",
       "      <td>0.429852</td>\n",
       "      <td>0.399137</td>\n",
       "      <td>0.622330</td>\n",
       "      <td>0.448485</td>\n",
       "      <td>0.612637</td>\n",
       "      <td>0.533623</td>\n",
       "      <td>0.011501</td>\n",
       "      <td>0.130053</td>\n",
       "    </tr>\n",
       "    <tr>\n",
       "      <th>Connecticut</th>\n",
       "      <td>0.680886</td>\n",
       "      <td>0.047580</td>\n",
       "      <td>0.876215</td>\n",
       "      <td>0.402020</td>\n",
       "      <td>1.000000</td>\n",
       "      <td>0.552613</td>\n",
       "      <td>0.652488</td>\n",
       "      <td>0.487750</td>\n",
       "      <td>0.632073</td>\n",
       "      <td>0.621503</td>\n",
       "      <td>...</td>\n",
       "      <td>0.531769</td>\n",
       "      <td>0.626712</td>\n",
       "      <td>0.802485</td>\n",
       "      <td>0.105707</td>\n",
       "      <td>0.302538</td>\n",
       "      <td>0.898469</td>\n",
       "      <td>0.715691</td>\n",
       "      <td>0.400099</td>\n",
       "      <td>0.585790</td>\n",
       "      <td>0.814971</td>\n",
       "    </tr>\n",
       "  </tbody>\n",
       "</table>\n",
       "<p>5 rows × 39 columns</p>\n",
       "</div>"
      ],
      "text/plain": [
       "               Alaska  Arkansas  California  Colorado  Connecticut  Delaware  \\\n",
       "Alaska       1.000000 -0.377934    0.717653 -0.129332     0.680886  0.258997   \n",
       "Arkansas    -0.377934  1.000000   -0.234367  0.135749     0.047580  0.016125   \n",
       "California   0.717653 -0.234367    1.000000  0.483313     0.876215  0.479197   \n",
       "Colorado    -0.129332  0.135749    0.483313  1.000000     0.402020  0.566304   \n",
       "Connecticut  0.680886  0.047580    0.876215  0.402020     1.000000  0.552613   \n",
       "\n",
       "             District of Columbia  Federal (FLSA)      Guam    Hawaii  ...  \\\n",
       "Alaska                   0.321785        0.637679  0.787915  0.672620  ...   \n",
       "Arkansas                 0.266889        0.117245  0.039593  0.204801  ...   \n",
       "California               0.596865        0.371966  0.492052  0.519241  ...   \n",
       "Colorado                 0.673371       -0.232035 -0.192616  0.069800  ...   \n",
       "Connecticut              0.652488        0.487750  0.632073  0.621503  ...   \n",
       "\n",
       "             Pennsylvania  Puerto Rico  Rhode Island  South Dakota      Utah  \\\n",
       "Alaska           0.610814    -0.038118      0.652353     -0.326316 -0.020462   \n",
       "Arkansas         0.159923     0.232186      0.003498      0.800116  0.194680   \n",
       "California       0.429061     0.512712      0.780916     -0.036787  0.392898   \n",
       "Colorado        -0.136195     0.657364      0.429852      0.399137  0.622330   \n",
       "Connecticut      0.531769     0.626712      0.802485      0.105707  0.302538   \n",
       "\n",
       "              Vermont  Washington  West Virginia  Wisconsin   Wyoming  \n",
       "Alaska       0.663558    0.411593       0.044814   0.702570  0.727932  \n",
       "Arkansas     0.087429   -0.072343       0.420819   0.000470 -0.250592  \n",
       "California   0.877922    0.754085       0.371765   0.584067  0.722617  \n",
       "Colorado     0.448485    0.612637       0.533623   0.011501  0.130053  \n",
       "Connecticut  0.898469    0.715691       0.400099   0.585790  0.814971  \n",
       "\n",
       "[5 rows x 39 columns]"
      ]
     },
     "execution_count": 3,
     "metadata": {},
     "output_type": "execute_result"
    }
   ],
   "source": [
    "import pandas as pd\n",
    "import numpy as np\n",
    "\n",
    "df = pd.read_csv('datasets/minwageUTF8.csv')\n",
    "\n",
    "act_min_wage = pd.DataFrame()\n",
    "\n",
    "for name, group in df.groupby('State'):\n",
    "    if act_min_wage.empty:\n",
    "        act_min_wage = group.set_index('Year')[['Low.2018']].rename(columns={'Low.2018':name})\n",
    "    else:\n",
    "        act_min_wage = act_min_wage.join(group.set_index('Year')[['Low.2018']].rename(columns={'Low.2018':name}))\n",
    "        \n",
    "min_wage_corr = act_min_wage.replace(0, np.NaN).dropna(axis=1).corr()\n",
    "\n",
    "min_wage_corr.head()"
   ]
  },
  {
   "cell_type": "code",
   "execution_count": 5,
   "metadata": {},
   "outputs": [
    {
     "data": {
      "text/plain": [
       "<matplotlib.image.AxesImage at 0x2011eb974a8>"
      ]
     },
     "execution_count": 5,
     "metadata": {},
     "output_type": "execute_result"
    },
    {
     "data": {
      "image/png": "[encoded data removed]",
      "text/plain": [
       "<Figure size 288x288 with 1 Axes>"
      ]
     },
     "metadata": {
      "needs_background": "light"
     },
     "output_type": "display_data"
    }
   ],
   "source": [
    "import matplotlib.pyplot as plt\n",
    "\n",
    "plt.matshow(min_wage_corr)"
   ]
  },
  {
   "cell_type": "code",
   "execution_count": 13,
   "metadata": {},
   "outputs": [
    {
     "data": {
      "image/png": "[encoded data removed]",
      "text/plain": [
       "<Figure size 864x864 with 1 Axes>"
      ]
     },
     "metadata": {
      "needs_background": "light"
     },
     "output_type": "display_data"
    }
   ],
   "source": [
    "labels = [c[:2] for c in min_wage_corr.columns]\n",
    "\n",
    "fig = plt.figure(figsize=(12,12))\n",
    "ax = fig.add_subplot(111)\n",
    "\n",
    "ax.matshow(min_wage_corr, cmap=plt.cm.RdYlGn)\n",
    "\n",
    "ax.set_xticks(np.arange(len(labels)))\n",
    "ax.set_yticks(np.arange(len(labels)))\n",
    "\n",
    "ax.set_xticklabels(labels)\n",
    "ax.set_yticklabels(labels)\n",
    "\n",
    "plt.show()"
   ]
  },
  {
   "cell_type": "code",
   "execution_count": 14,
   "metadata": {},
   "outputs": [],
   "source": [
    "import pandas as pd\n",
    "\n",
    "dfs = pd.read_html('https://www.infoplease.com/us/postal-information/state-abbreviations-and-state-postal-codes')"
   ]
  },
  {
   "cell_type": "code",
   "execution_count": 15,
   "metadata": {},
   "outputs": [
    {
     "name": "stdout",
     "output_type": "stream",
     "text": [
      "  State/District Abbreviation Postal Code\n",
      "0        Alabama         Ala.          AL\n",
      "1         Alaska       Alaska          AK\n",
      "2        Arizona        Ariz.          AZ\n",
      "3       Arkansas         Ark.          AR\n",
      "4     California       Calif.          CA\n",
      "  Territory/Associate Abbreviation Postal Code\n",
      "0      American Samoa          NaN          AS\n",
      "1                Guam         Guam          GU\n",
      "2    Marshall Islands          NaN          MH\n",
      "3          Micronesia          NaN          FM\n",
      "4   Northern Marianas          NaN          MP\n"
     ]
    }
   ],
   "source": [
    "for df in dfs:\n",
    "    print(df.head())"
   ]
  },
  {
   "cell_type": "code",
   "execution_count": 16,
   "metadata": {},
   "outputs": [
    {
     "data": {
      "text/html": [
       "<div>\n",
       "<style scoped>\n",
       "    .dataframe tbody tr th:only-of-type {\n",
       "        vertical-align: middle;\n",
       "    }\n",
       "\n",
       "    .dataframe tbody tr th {\n",
       "        vertical-align: top;\n",
       "    }\n",
       "\n",
       "    .dataframe thead th {\n",
       "        text-align: right;\n",
       "    }\n",
       "</style>\n",
       "<table border=\"1\" class=\"dataframe\">\n",
       "  <thead>\n",
       "    <tr style=\"text-align: right;\">\n",
       "      <th></th>\n",
       "      <th>State/District</th>\n",
       "      <th>Abbreviation</th>\n",
       "      <th>Postal Code</th>\n",
       "    </tr>\n",
       "  </thead>\n",
       "  <tbody>\n",
       "    <tr>\n",
       "      <th>0</th>\n",
       "      <td>Alabama</td>\n",
       "      <td>Ala.</td>\n",
       "      <td>AL</td>\n",
       "    </tr>\n",
       "    <tr>\n",
       "      <th>1</th>\n",
       "      <td>Alaska</td>\n",
       "      <td>Alaska</td>\n",
       "      <td>AK</td>\n",
       "    </tr>\n",
       "    <tr>\n",
       "      <th>2</th>\n",
       "      <td>Arizona</td>\n",
       "      <td>Ariz.</td>\n",
       "      <td>AZ</td>\n",
       "    </tr>\n",
       "    <tr>\n",
       "      <th>3</th>\n",
       "      <td>Arkansas</td>\n",
       "      <td>Ark.</td>\n",
       "      <td>AR</td>\n",
       "    </tr>\n",
       "    <tr>\n",
       "      <th>4</th>\n",
       "      <td>California</td>\n",
       "      <td>Calif.</td>\n",
       "      <td>CA</td>\n",
       "    </tr>\n",
       "  </tbody>\n",
       "</table>\n",
       "</div>"
      ],
      "text/plain": [
       "  State/District Abbreviation Postal Code\n",
       "0        Alabama         Ala.          AL\n",
       "1         Alaska       Alaska          AK\n",
       "2        Arizona        Ariz.          AZ\n",
       "3       Arkansas         Ark.          AR\n",
       "4     California       Calif.          CA"
      ]
     },
     "execution_count": 16,
     "metadata": {},
     "output_type": "execute_result"
    }
   ],
   "source": [
    "state_abbv = dfs[0]\n",
    "state_abbv.head()"
   ]
  },
  {
   "cell_type": "code",
   "execution_count": 17,
   "metadata": {},
   "outputs": [],
   "source": [
    "state_abbv.to_csv('datasets/state_abbv.csv', index=False)"
   ]
  },
  {
   "cell_type": "code",
   "execution_count": 19,
   "metadata": {},
   "outputs": [
    {
     "data": {
      "text/plain": [
       "{'Postal Code': {'Alabama': 'AL',\n",
       "  'Alaska': 'AK',\n",
       "  'Arizona': 'AZ',\n",
       "  'Arkansas': 'AR',\n",
       "  'California': 'CA',\n",
       "  'Colorado': 'CO',\n",
       "  'Connecticut': 'CT',\n",
       "  'Delaware': 'DE',\n",
       "  'District of Columbia': 'DC',\n",
       "  'Florida': 'FL',\n",
       "  'Georgia': 'GA',\n",
       "  'Hawaii': 'HI',\n",
       "  'Idaho': 'ID',\n",
       "  'Illinois': 'IL',\n",
       "  'Indiana': 'IN',\n",
       "  'Iowa': 'IA',\n",
       "  'Kansas': 'KS',\n",
       "  'Kentucky': 'KY',\n",
       "  'Louisiana': 'LA',\n",
       "  'Maine': 'ME',\n",
       "  'Maryland': 'MD',\n",
       "  'Massachusetts': 'MA',\n",
       "  'Michigan': 'MI',\n",
       "  'Minnesota': 'MN',\n",
       "  'Mississippi': 'MS',\n",
       "  'Missouri': 'MO',\n",
       "  'Montana': 'MT',\n",
       "  'Nebraska': 'NE',\n",
       "  'Nevada': 'NV',\n",
       "  'New Hampshire': 'NH',\n",
       "  'New Jersey': 'NJ',\n",
       "  'New Mexico': 'NM',\n",
       "  'New York': 'NY',\n",
       "  'North Carolina': 'NC',\n",
       "  'North Dakota': 'ND',\n",
       "  'Ohio': 'OH',\n",
       "  'Oklahoma': 'OK',\n",
       "  'Oregon': 'OR',\n",
       "  'Pennsylvania': 'PA',\n",
       "  'Rhode Island': 'RI',\n",
       "  'South Carolina': 'SC',\n",
       "  'South Dakota': 'SD',\n",
       "  'Tennessee': 'TN',\n",
       "  'Texas': 'TX',\n",
       "  'Utah': 'UT',\n",
       "  'Vermont': 'VT',\n",
       "  'Virginia': 'VA',\n",
       "  'Washington': 'WA',\n",
       "  'West Virginia': 'WV',\n",
       "  'Wisconsin': 'WI',\n",
       "  'Wyoming': 'WY'}}"
      ]
     },
     "execution_count": 19,
     "metadata": {},
     "output_type": "execute_result"
    }
   ],
   "source": [
    "state_abbv = pd.read_csv('datasets/state_abbv.csv', index_col=0)\n",
    "\n",
    "abbv_dict = state_abbv[['Postal Code']].to_dict()\n",
    "\n",
    "abbv_dict"
   ]
  },
  {
   "cell_type": "code",
   "execution_count": 21,
   "metadata": {},
   "outputs": [
    {
     "ename": "KeyError",
     "evalue": "'Alaska'",
     "output_type": "error",
     "traceback": [
      "\u001b[1;31m---------------------------------------------------------------------------\u001b[0m",
      "\u001b[1;31mKeyError\u001b[0m                                  Traceback (most recent call last)",
      "\u001b[1;32m<ipython-input-21-c16655d48778>\u001b[0m in \u001b[0;36m<module>\u001b[1;34m\u001b[0m\n\u001b[0;32m      3\u001b[0m \u001b[0mabbv_dict\u001b[0m\u001b[1;33m[\u001b[0m\u001b[1;34m'Puerto Rico'\u001b[0m\u001b[1;33m]\u001b[0m \u001b[1;33m=\u001b[0m \u001b[1;34m'PR'\u001b[0m\u001b[1;33m\u001b[0m\u001b[1;33m\u001b[0m\u001b[0m\n\u001b[0;32m      4\u001b[0m \u001b[1;33m\u001b[0m\u001b[0m\n\u001b[1;32m----> 5\u001b[1;33m \u001b[0mlabels\u001b[0m \u001b[1;33m=\u001b[0m \u001b[1;33m[\u001b[0m\u001b[0mabbv_dict\u001b[0m\u001b[1;33m[\u001b[0m\u001b[0mc\u001b[0m\u001b[1;33m]\u001b[0m \u001b[1;32mfor\u001b[0m \u001b[0mc\u001b[0m \u001b[1;32min\u001b[0m \u001b[0mmin_wage_corr\u001b[0m\u001b[1;33m.\u001b[0m\u001b[0mcolumns\u001b[0m\u001b[1;33m]\u001b[0m\u001b[1;33m\u001b[0m\u001b[1;33m\u001b[0m\u001b[0m\n\u001b[0m",
      "\u001b[1;32m<ipython-input-21-c16655d48778>\u001b[0m in \u001b[0;36m<listcomp>\u001b[1;34m(.0)\u001b[0m\n\u001b[0;32m      3\u001b[0m \u001b[0mabbv_dict\u001b[0m\u001b[1;33m[\u001b[0m\u001b[1;34m'Puerto Rico'\u001b[0m\u001b[1;33m]\u001b[0m \u001b[1;33m=\u001b[0m \u001b[1;34m'PR'\u001b[0m\u001b[1;33m\u001b[0m\u001b[1;33m\u001b[0m\u001b[0m\n\u001b[0;32m      4\u001b[0m \u001b[1;33m\u001b[0m\u001b[0m\n\u001b[1;32m----> 5\u001b[1;33m \u001b[0mlabels\u001b[0m \u001b[1;33m=\u001b[0m \u001b[1;33m[\u001b[0m\u001b[0mabbv_dict\u001b[0m\u001b[1;33m[\u001b[0m\u001b[0mc\u001b[0m\u001b[1;33m]\u001b[0m \u001b[1;32mfor\u001b[0m \u001b[0mc\u001b[0m \u001b[1;32min\u001b[0m \u001b[0mmin_wage_corr\u001b[0m\u001b[1;33m.\u001b[0m\u001b[0mcolumns\u001b[0m\u001b[1;33m]\u001b[0m\u001b[1;33m\u001b[0m\u001b[1;33m\u001b[0m\u001b[0m\n\u001b[0m",
      "\u001b[1;31mKeyError\u001b[0m: 'Alaska'"
     ]
    }
   ],
   "source": [
    "abbv_dict['Federal (FLSA)'] = 'FLSA'\n",
    "abbv_dict['Guam'] = 'GU'\n",
    "abbv_dict['Puerto Rico'] = 'PR'\n",
    "\n",
    "labels = [abbv_dict[c] for c in min_wage_corr.columns]"
   ]
  }
 ],
 "metadata": {
  "kernelspec": {
   "display_name": "Python 3",
   "language": "python",
   "name": "python3"
  },
  "language_info": {
   "codemirror_mode": {
    "name": "ipython",
    "version": 3
   },
   "file_extension": ".py",
   "mimetype": "text/x-python",
   "name": "python",
   "nbconvert_exporter": "python",
   "pygments_lexer": "ipython3",
   "version": "3.7.3"
  }
 },
 "nbformat": 4,
 "nbformat_minor": 2
}
